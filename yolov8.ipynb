{
 "cells": [
  {
   "cell_type": "code",
   "execution_count": 1,
   "metadata": {
    "colab": {
     "base_uri": "https://localhost:8080/"
    },
    "executionInfo": {
     "elapsed": 22483,
     "status": "ok",
     "timestamp": 1729612100655,
     "user": {
      "displayName": "Trong To",
      "userId": "14431324630869671074"
     },
     "user_tz": -420
    },
    "id": "RcuSjiH9WTK1",
    "outputId": "cd7285d8-6896-4790-e13b-4175b02b0a70"
   },
   "outputs": [
    {
     "name": "stdout",
     "output_type": "stream",
     "text": [
      "Mounted at /content/drive\n"
     ]
    }
   ],
   "source": [
    "from google.colab import drive\n",
    "drive.mount(\"/content/drive\")"
   ]
  },
  {
   "cell_type": "code",
   "execution_count": 2,
   "metadata": {
    "colab": {
     "base_uri": "https://localhost:8080/"
    },
    "executionInfo": {
     "elapsed": 16846,
     "status": "ok",
     "timestamp": 1729612119864,
     "user": {
      "displayName": "Trong To",
      "userId": "14431324630869671074"
     },
     "user_tz": -420
    },
    "id": "BWwamODgWaxd",
    "outputId": "7d9452b4-dcd5-4f69-b6c2-e3bdbc090c1c"
   },
   "outputs": [
    {
     "name": "stdout",
     "output_type": "stream",
     "text": [
      "Ultralytics 8.3.19 🚀 Python-3.10.12 torch-2.4.1+cu121 CPU (Intel Xeon 2.20GHz)\n",
      "Setup complete ✅ (2 CPUs, 12.7 GB RAM, 32.3/107.7 GB disk)\n"
     ]
    }
   ],
   "source": [
    "%pip install ultralytics\n",
    "import ultralytics\n",
    "ultralytics.checks()"
   ]
  },
  {
   "cell_type": "code",
   "execution_count": 3,
   "metadata": {
    "executionInfo": {
     "elapsed": 5,
     "status": "ok",
     "timestamp": 1729612121726,
     "user": {
      "displayName": "Trong To",
      "userId": "14431324630869671074"
     },
     "user_tz": -420
    },
    "id": "bhw7bgmwX3uG"
   },
   "outputs": [],
   "source": [
    "# import dependencies\n",
    "import os\n",
    "import subprocess\n",
    "import IPython\n",
    "from IPython.display import Video, display,Image"
   ]
  },
  {
   "cell_type": "code",
   "execution_count": 4,
   "metadata": {
    "executionInfo": {
     "elapsed": 9,
     "status": "ok",
     "timestamp": 1729612124444,
     "user": {
      "displayName": "Trong To",
      "userId": "14431324630869671074"
     },
     "user_tz": -420
    },
    "id": "21SeQh66a-H_"
   },
   "outputs": [],
   "source": [
    "cfg = '/content/drive/MyDrive/YOLOV8/YOLOv8-Image-Segmentation-main/yolov8x-seg_custom.yaml'"
   ]
  },
  {
   "cell_type": "code",
   "execution_count": null,
   "metadata": {
    "colab": {
     "base_uri": "https://localhost:8080/"
    },
    "executionInfo": {
     "elapsed": 508841,
     "status": "ok",
     "timestamp": 1729597515190,
     "user": {
      "displayName": "Trong To",
      "userId": "14431324630869671074"
     },
     "user_tz": -420
    },
    "id": "BvqoQucdWbYM",
    "outputId": "d4f775b1-ca65-4104-df10-27112bc0ac67"
   },
   "outputs": [
    {
     "name": "stdout",
     "output_type": "stream",
     "text": [
      "WARNING ⚠️ /content/drive/MyDrive/YOLOV8/YOLOv8-Image-Segmentation-main/yolov8n-seg.pt appears to require 'omegaconf', which is not in Ultralytics requirements.\n",
      "AutoInstall will run now for 'omegaconf' but this feature will be removed in the future.\n",
      "Recommend fixes are to train a new model using the latest 'ultralytics' package or to run a command with an official Ultralytics model, i.e. 'yolo predict model=yolov8n.pt'\n",
      "\u001b[31m\u001b[1mrequirements:\u001b[0m Ultralytics requirement ['omegaconf'] not found, attempting AutoUpdate...\n",
      "Collecting omegaconf\n",
      "  Downloading omegaconf-2.3.0-py3-none-any.whl.metadata (3.9 kB)\n",
      "Collecting antlr4-python3-runtime==4.9.* (from omegaconf)\n",
      "  Downloading antlr4-python3-runtime-4.9.3.tar.gz (117 kB)\n",
      "     ━━━━━━━━━━━━━━━━━━━━━━━━━━━━━━━━━━━━━━━━ 117.0/117.0 kB 5.0 MB/s eta 0:00:00\n",
      "  Preparing metadata (setup.py): started\n",
      "  Preparing metadata (setup.py): finished with status 'done'\n",
      "Requirement already satisfied: PyYAML>=5.1.0 in /usr/local/lib/python3.10/dist-packages (from omegaconf) (6.0.2)\n",
      "Downloading omegaconf-2.3.0-py3-none-any.whl (79 kB)\n",
      "   ━━━━━━━━━━━━━━━━━━━━━━━━━━━━━━━━━━━━━━━━ 79.5/79.5 kB 29.3 MB/s eta 0:00:00\n",
      "Building wheels for collected packages: antlr4-python3-runtime\n",
      "  Building wheel for antlr4-python3-runtime (setup.py): started\n",
      "  Building wheel for antlr4-python3-runtime (setup.py): finished with status 'done'\n",
      "  Created wheel for antlr4-python3-runtime: filename=antlr4_python3_runtime-4.9.3-py3-none-any.whl size=144555 sha256=469e8d9bcc25d7e6e673ec3d60adfc30d0e862559063f3fed8d2032e247cccb9\n",
      "  Stored in directory: /tmp/pip-ephem-wheel-cache-thprsoss/wheels/12/93/dd/1f6a127edc45659556564c5730f6d4e300888f4bca2d4c5a88\n",
      "Successfully built antlr4-python3-runtime\n",
      "Installing collected packages: antlr4-python3-runtime, omegaconf\n",
      "Successfully installed antlr4-python3-runtime-4.9.3 omegaconf-2.3.0\n",
      "\n",
      "\u001b[31m\u001b[1mrequirements:\u001b[0m AutoUpdate success ✅ 2.6s, installed 1 package: ['omegaconf']\n",
      "\u001b[31m\u001b[1mrequirements:\u001b[0m ⚠️ \u001b[1mRestart runtime or rerun command for updates to take effect\u001b[0m\n",
      "\n",
      "Ultralytics 8.3.19 🚀 Python-3.10.12 torch-2.4.0+cpu CPU (Intel Xeon 2.00GHz)\n",
      "\u001b[34m\u001b[1mengine/trainer: \u001b[0mtask=segment, mode=train, model=/content/drive/MyDrive/YOLOV8/YOLOv8-Image-Segmentation-main/yolov8n-seg.pt, data=/content/drive/MyDrive/YOLOV8/YOLOv8-Image-Segmentation-main/custom_data.yaml, epochs=35, time=None, patience=100, batch=8, imgsz=640, save=True, save_period=-1, cache=False, device=None, workers=8, project=/content/drive/MyDrive/YOLOV8/runs, name=segment_traiiin, exist_ok=False, pretrained=True, optimizer=auto, verbose=True, seed=0, deterministic=True, single_cls=False, rect=False, cos_lr=False, close_mosaic=10, resume=False, amp=True, fraction=1.0, profile=False, freeze=None, multi_scale=False, overlap_mask=True, mask_ratio=4, dropout=0.0, val=True, split=val, save_json=False, save_hybrid=False, conf=None, iou=0.7, max_det=300, half=False, dnn=False, plots=True, source=None, vid_stride=1, stream_buffer=False, visualize=False, augment=False, agnostic_nms=False, classes=None, retina_masks=False, embed=None, show=False, save_frames=False, save_txt=False, save_conf=False, save_crop=False, show_labels=True, show_conf=True, show_boxes=True, line_width=None, format=torchscript, keras=False, optimize=False, int8=False, dynamic=False, simplify=True, opset=None, workspace=4, nms=False, lr0=0.01, lrf=0.01, momentum=0.937, weight_decay=0.0005, warmup_epochs=3.0, warmup_momentum=0.8, warmup_bias_lr=0.1, box=7.5, cls=0.5, dfl=1.5, pose=12.0, kobj=1.0, label_smoothing=0.0, nbs=64, hsv_h=0.015, hsv_s=0.7, hsv_v=0.4, degrees=0.0, translate=0.1, scale=0.5, shear=0.0, perspective=0.0, flipud=0.0, fliplr=0.5, bgr=0.0, mosaic=1.0, mixup=0.0, copy_paste=0.0, copy_paste_mode=flip, auto_augment=randaugment, erasing=0.4, crop_fraction=1.0, cfg=None, tracker=botsort.yaml, save_dir=/content/drive/MyDrive/YOLOV8/runs/segment_traiiin\n",
      "Overriding model.yaml nc=80 with nc=1\n",
      "\n",
      "                   from  n    params  module                                       arguments                     \n",
      "  0                  -1  1       464  ultralytics.nn.modules.conv.Conv             [3, 16, 3, 2]                 \n",
      "  1                  -1  1      4672  ultralytics.nn.modules.conv.Conv             [16, 32, 3, 2]                \n",
      "  2                  -1  1      7360  ultralytics.nn.modules.block.C2f             [32, 32, 1, True]             \n",
      "  3                  -1  1     18560  ultralytics.nn.modules.conv.Conv             [32, 64, 3, 2]                \n",
      "  4                  -1  2     49664  ultralytics.nn.modules.block.C2f             [64, 64, 2, True]             \n",
      "  5                  -1  1     73984  ultralytics.nn.modules.conv.Conv             [64, 128, 3, 2]               \n",
      "  6                  -1  2    197632  ultralytics.nn.modules.block.C2f             [128, 128, 2, True]           \n",
      "  7                  -1  1    295424  ultralytics.nn.modules.conv.Conv             [128, 256, 3, 2]              \n",
      "  8                  -1  1    460288  ultralytics.nn.modules.block.C2f             [256, 256, 1, True]           \n",
      "  9                  -1  1    164608  ultralytics.nn.modules.block.SPPF            [256, 256, 5]                 \n",
      " 10                  -1  1         0  torch.nn.modules.upsampling.Upsample         [None, 2, 'nearest']          \n",
      " 11             [-1, 6]  1         0  ultralytics.nn.modules.conv.Concat           [1]                           \n",
      " 12                  -1  1    148224  ultralytics.nn.modules.block.C2f             [384, 128, 1]                 \n",
      " 13                  -1  1         0  torch.nn.modules.upsampling.Upsample         [None, 2, 'nearest']          \n",
      " 14             [-1, 4]  1         0  ultralytics.nn.modules.conv.Concat           [1]                           \n",
      " 15                  -1  1     37248  ultralytics.nn.modules.block.C2f             [192, 64, 1]                  \n",
      " 16                  -1  1     36992  ultralytics.nn.modules.conv.Conv             [64, 64, 3, 2]                \n",
      " 17            [-1, 12]  1         0  ultralytics.nn.modules.conv.Concat           [1]                           \n",
      " 18                  -1  1    123648  ultralytics.nn.modules.block.C2f             [192, 128, 1]                 \n",
      " 19                  -1  1    147712  ultralytics.nn.modules.conv.Conv             [128, 128, 3, 2]              \n",
      " 20             [-1, 9]  1         0  ultralytics.nn.modules.conv.Concat           [1]                           \n",
      " 21                  -1  1    493056  ultralytics.nn.modules.block.C2f             [384, 256, 1]                 \n",
      " 22        [15, 18, 21]  1   1004275  ultralytics.nn.modules.head.Segment          [1, 32, 64, [64, 128, 256]]   \n",
      "YOLOv8n-seg summary: 261 layers, 3,263,811 parameters, 3,263,795 gradients, 12.1 GFLOPs\n",
      "\n",
      "Transferred 381/417 items from pretrained weights\n",
      "\u001b[34m\u001b[1mTensorBoard: \u001b[0mStart with 'tensorboard --logdir /content/drive/MyDrive/YOLOV8/runs/segment_traiiin', view at http://localhost:6006/\n",
      "Freezing layer 'model.22.dfl.conv.weight'\n",
      "\u001b[34m\u001b[1mtrain: \u001b[0mScanning /content/drive/MyDrive/YOLOV8/dataset_yolo/images_and_labels/labels/train.cache... 70 images, 0 backgrounds, 0 corrupt: 100% 70/70 [00:00<?, ?it/s]\n",
      "\u001b[34m\u001b[1mval: \u001b[0mScanning /content/drive/MyDrive/YOLOV8/dataset_yolo/images_and_labels/labels/val.cache... 35 images, 0 backgrounds, 0 corrupt: 100% 35/35 [00:00<?, ?it/s]\n",
      "Plotting labels to /content/drive/MyDrive/YOLOV8/runs/segment_traiiin/labels.jpg... \n",
      "\u001b[34m\u001b[1moptimizer:\u001b[0m 'optimizer=auto' found, ignoring 'lr0=0.01' and 'momentum=0.937' and determining best 'optimizer', 'lr0' and 'momentum' automatically... \n",
      "\u001b[34m\u001b[1moptimizer:\u001b[0m AdamW(lr=0.002, momentum=0.9) with parameter groups 66 weight(decay=0.0), 77 weight(decay=0.0005), 76 bias(decay=0.0)\n",
      "\u001b[34m\u001b[1mTensorBoard: \u001b[0mmodel graph visualization added ✅\n",
      "Image sizes 640 train, 640 val\n",
      "Using 0 dataloader workers\n",
      "Logging results to \u001b[1m/content/drive/MyDrive/YOLOV8/runs/segment_traiiin\u001b[0m\n",
      "Starting training for 35 epochs...\n",
      "\n",
      "      Epoch    GPU_mem   box_loss   seg_loss   cls_loss   dfl_loss  Instances       Size\n",
      "       1/35         0G       1.25      2.698      3.831      1.434          9        640: 100% 9/9 [00:11<00:00,  1.33s/it]\n",
      "                 Class     Images  Instances      Box(P          R      mAP50  mAP50-95)     Mask(P          R      mAP50  mAP50-95): 100% 3/3 [00:03<00:00,  1.01s/it]\n",
      "                   all         35         35    0.00333          1      0.346      0.216    0.00295      0.886      0.345      0.206\n",
      "\n",
      "      Epoch    GPU_mem   box_loss   seg_loss   cls_loss   dfl_loss  Instances       Size\n",
      "       2/35         0G      1.081      2.301      2.769       1.19          9        640: 100% 9/9 [00:10<00:00,  1.20s/it]\n",
      "                 Class     Images  Instances      Box(P          R      mAP50  mAP50-95)     Mask(P          R      mAP50  mAP50-95): 100% 3/3 [00:02<00:00,  1.06it/s]\n",
      "                   all         35         35      0.954      0.589      0.762      0.397      0.954      0.589      0.762      0.446\n",
      "\n",
      "      Epoch    GPU_mem   box_loss   seg_loss   cls_loss   dfl_loss  Instances       Size\n",
      "       3/35         0G       1.12      2.082      2.184      1.161          9        640: 100% 9/9 [00:10<00:00,  1.15s/it]\n",
      "                 Class     Images  Instances      Box(P          R      mAP50  mAP50-95)     Mask(P          R      mAP50  mAP50-95): 100% 3/3 [00:02<00:00,  1.00it/s]\n",
      "                   all         35         35    0.00333          1      0.725      0.472    0.00333          1      0.744      0.301\n",
      "\n",
      "      Epoch    GPU_mem   box_loss   seg_loss   cls_loss   dfl_loss  Instances       Size\n",
      "       4/35         0G      0.984      1.771      1.692      1.041          8        640: 100% 9/9 [00:10<00:00,  1.12s/it]\n",
      "                 Class     Images  Instances      Box(P          R      mAP50  mAP50-95)     Mask(P          R      mAP50  mAP50-95): 100% 3/3 [00:03<00:00,  1.04s/it]\n",
      "                   all         35         35          1      0.358      0.639      0.376       0.84      0.301      0.525      0.175\n",
      "\n",
      "      Epoch    GPU_mem   box_loss   seg_loss   cls_loss   dfl_loss  Instances       Size\n",
      "       5/35         0G      1.035      1.839      1.518       1.04         10        640: 100% 9/9 [00:10<00:00,  1.14s/it]\n",
      "                 Class     Images  Instances      Box(P          R      mAP50  mAP50-95)     Mask(P          R      mAP50  mAP50-95): 100% 3/3 [00:02<00:00,  1.17it/s]\n",
      "                   all         35         35      0.918      0.343      0.506       0.26      0.918      0.343      0.506      0.313\n",
      "\n",
      "      Epoch    GPU_mem   box_loss   seg_loss   cls_loss   dfl_loss  Instances       Size\n",
      "       6/35         0G     0.9805      1.615      1.468     0.9933         18        640: 100% 9/9 [00:10<00:00,  1.20s/it]\n",
      "                 Class     Images  Instances      Box(P          R      mAP50  mAP50-95)     Mask(P          R      mAP50  mAP50-95): 100% 3/3 [00:03<00:00,  1.03s/it]\n",
      "                   all         35         35      0.933      0.457      0.554       0.31      0.933      0.457      0.549      0.335\n",
      "\n",
      "      Epoch    GPU_mem   box_loss   seg_loss   cls_loss   dfl_loss  Instances       Size\n",
      "       7/35         0G      1.076      1.906      1.513      1.066         11        640: 100% 9/9 [00:10<00:00,  1.17s/it]\n",
      "                 Class     Images  Instances      Box(P          R      mAP50  mAP50-95)     Mask(P          R      mAP50  mAP50-95): 100% 3/3 [00:02<00:00,  1.01it/s]\n",
      "                   all         35         35      0.876      0.514      0.576      0.334      0.868      0.514      0.575      0.365\n",
      "\n",
      "      Epoch    GPU_mem   box_loss   seg_loss   cls_loss   dfl_loss  Instances       Size\n",
      "       8/35         0G     0.9523      1.441      1.362      1.005         10        640: 100% 9/9 [00:10<00:00,  1.14s/it]\n",
      "                 Class     Images  Instances      Box(P          R      mAP50  mAP50-95)     Mask(P          R      mAP50  mAP50-95): 100% 3/3 [00:02<00:00,  1.15it/s]\n",
      "                   all         35         35      0.826      0.486      0.613      0.404      0.859      0.486      0.559      0.308\n",
      "\n",
      "      Epoch    GPU_mem   box_loss   seg_loss   cls_loss   dfl_loss  Instances       Size\n",
      "       9/35         0G     0.9133      1.477      1.438      1.044          6        640: 100% 9/9 [00:09<00:00,  1.10s/it]\n",
      "                 Class     Images  Instances      Box(P          R      mAP50  mAP50-95)     Mask(P          R      mAP50  mAP50-95): 100% 3/3 [00:02<00:00,  1.11it/s]\n",
      "                   all         35         35      0.554      0.343      0.353      0.248      0.554      0.343       0.35        0.2\n",
      "\n",
      "      Epoch    GPU_mem   box_loss   seg_loss   cls_loss   dfl_loss  Instances       Size\n",
      "      10/35         0G     0.9163       1.69      1.411      1.028         14        640: 100% 9/9 [00:10<00:00,  1.15s/it]\n",
      "                 Class     Images  Instances      Box(P          R      mAP50  mAP50-95)     Mask(P          R      mAP50  mAP50-95): 100% 3/3 [00:02<00:00,  1.16it/s]\n",
      "                   all         35         35      0.755      0.743      0.751      0.531      0.755      0.743       0.75      0.491\n",
      "\n",
      "      Epoch    GPU_mem   box_loss   seg_loss   cls_loss   dfl_loss  Instances       Size\n",
      "      11/35         0G      1.043      1.593       1.46      1.049         11        640: 100% 9/9 [00:10<00:00,  1.22s/it]\n",
      "                 Class     Images  Instances      Box(P          R      mAP50  mAP50-95)     Mask(P          R      mAP50  mAP50-95): 100% 3/3 [00:02<00:00,  1.04it/s]\n",
      "                   all         35         35      0.666       0.57      0.655      0.452      0.666       0.57       0.63      0.273\n",
      "\n",
      "      Epoch    GPU_mem   box_loss   seg_loss   cls_loss   dfl_loss  Instances       Size\n",
      "      12/35         0G     0.9806      1.446      1.427      1.026          7        640: 100% 9/9 [00:10<00:00,  1.17s/it]\n",
      "                 Class     Images  Instances      Box(P          R      mAP50  mAP50-95)     Mask(P          R      mAP50  mAP50-95): 100% 3/3 [00:02<00:00,  1.06it/s]\n",
      "                   all         35         35      0.546        0.4      0.499      0.348      0.546        0.4      0.469      0.272\n",
      "\n",
      "      Epoch    GPU_mem   box_loss   seg_loss   cls_loss   dfl_loss  Instances       Size\n",
      "      13/35         0G     0.8892      1.566      1.303      1.032         11        640: 100% 9/9 [00:10<00:00,  1.16s/it]\n",
      "                 Class     Images  Instances      Box(P          R      mAP50  mAP50-95)     Mask(P          R      mAP50  mAP50-95): 100% 3/3 [00:02<00:00,  1.17it/s]\n",
      "                   all         35         35      0.853      0.499       0.72      0.479      0.805      0.473       0.65      0.327\n",
      "\n",
      "      Epoch    GPU_mem   box_loss   seg_loss   cls_loss   dfl_loss  Instances       Size\n",
      "      14/35         0G     0.9408       1.76      1.394      1.073          9        640: 100% 9/9 [00:10<00:00,  1.15s/it]\n",
      "                 Class     Images  Instances      Box(P          R      mAP50  mAP50-95)     Mask(P          R      mAP50  mAP50-95): 100% 3/3 [00:02<00:00,  1.03it/s]\n",
      "                   all         35         35      0.761      0.829       0.83       0.52      0.747      0.759      0.734      0.337\n",
      "\n",
      "      Epoch    GPU_mem   box_loss   seg_loss   cls_loss   dfl_loss  Instances       Size\n",
      "      15/35         0G     0.9641      1.491      1.283      1.046         12        640: 100% 9/9 [00:10<00:00,  1.15s/it]\n",
      "                 Class     Images  Instances      Box(P          R      mAP50  mAP50-95)     Mask(P          R      mAP50  mAP50-95): 100% 3/3 [00:02<00:00,  1.16it/s]\n",
      "                   all         35         35      0.965      0.789      0.895       0.57      0.895      0.733      0.761      0.348\n",
      "\n",
      "      Epoch    GPU_mem   box_loss   seg_loss   cls_loss   dfl_loss  Instances       Size\n",
      "      16/35         0G     0.9135      1.486      1.328      1.014         15        640: 100% 9/9 [00:10<00:00,  1.11s/it]\n",
      "                 Class     Images  Instances      Box(P          R      mAP50  mAP50-95)     Mask(P          R      mAP50  mAP50-95): 100% 3/3 [00:02<00:00,  1.18it/s]\n",
      "                   all         35         35      0.919      0.743      0.828      0.549      0.862      0.712      0.729      0.354\n",
      "\n",
      "      Epoch    GPU_mem   box_loss   seg_loss   cls_loss   dfl_loss  Instances       Size\n",
      "      17/35         0G     0.9028      1.506      1.189       1.02         10        640: 100% 9/9 [00:10<00:00,  1.13s/it]\n",
      "                 Class     Images  Instances      Box(P          R      mAP50  mAP50-95)     Mask(P          R      mAP50  mAP50-95): 100% 3/3 [00:02<00:00,  1.14it/s]\n",
      "                   all         35         35      0.906      0.686       0.78      0.569      0.879      0.686       0.73      0.357\n",
      "\n",
      "      Epoch    GPU_mem   box_loss   seg_loss   cls_loss   dfl_loss  Instances       Size\n",
      "      18/35         0G     0.9388      1.411        1.2      1.016          7        640: 100% 9/9 [00:10<00:00,  1.13s/it]\n",
      "                 Class     Images  Instances      Box(P          R      mAP50  mAP50-95)     Mask(P          R      mAP50  mAP50-95): 100% 3/3 [00:02<00:00,  1.03it/s]\n",
      "                   all         35         35      0.874        0.8      0.839      0.612      0.906      0.826      0.801      0.379\n",
      "\n",
      "      Epoch    GPU_mem   box_loss   seg_loss   cls_loss   dfl_loss  Instances       Size\n",
      "      19/35         0G     0.8934      1.422       1.14     0.9912         11        640: 100% 9/9 [00:10<00:00,  1.12s/it]\n",
      "                 Class     Images  Instances      Box(P          R      mAP50  mAP50-95)     Mask(P          R      mAP50  mAP50-95): 100% 3/3 [00:02<00:00,  1.06it/s]\n",
      "                   all         35         35      0.851      0.829       0.88      0.631      0.818        0.8       0.82      0.409\n",
      "\n",
      "      Epoch    GPU_mem   box_loss   seg_loss   cls_loss   dfl_loss  Instances       Size\n",
      "      20/35         0G     0.9077      1.566      1.293      1.012          9        640: 100% 9/9 [00:10<00:00,  1.14s/it]\n",
      "                 Class     Images  Instances      Box(P          R      mAP50  mAP50-95)     Mask(P          R      mAP50  mAP50-95): 100% 3/3 [00:02<00:00,  1.00it/s]\n",
      "                   all         35         35      0.798      0.902      0.881      0.642      0.773      0.876      0.844      0.456\n",
      "\n",
      "      Epoch    GPU_mem   box_loss   seg_loss   cls_loss   dfl_loss  Instances       Size\n",
      "      21/35         0G     0.8654      1.361      1.232     0.9909          8        640: 100% 9/9 [00:10<00:00,  1.13s/it]\n",
      "                 Class     Images  Instances      Box(P          R      mAP50  mAP50-95)     Mask(P          R      mAP50  mAP50-95): 100% 3/3 [00:02<00:00,  1.01it/s]\n",
      "                   all         35         35      0.881      0.849      0.892      0.637      0.881      0.849      0.862      0.511\n",
      "\n",
      "      Epoch    GPU_mem   box_loss   seg_loss   cls_loss   dfl_loss  Instances       Size\n",
      "      22/35         0G     0.7793      1.265      1.018     0.9617         12        640: 100% 9/9 [00:09<00:00,  1.10s/it]\n",
      "                 Class     Images  Instances      Box(P          R      mAP50  mAP50-95)     Mask(P          R      mAP50  mAP50-95): 100% 3/3 [00:02<00:00,  1.15it/s]\n",
      "                   all         35         35      0.824      0.914       0.94      0.642      0.903      0.886      0.903      0.536\n",
      "\n",
      "      Epoch    GPU_mem   box_loss   seg_loss   cls_loss   dfl_loss  Instances       Size\n",
      "      23/35         0G     0.7954      1.257      1.027     0.9631         12        640: 100% 9/9 [00:10<00:00,  1.16s/it]\n",
      "                 Class     Images  Instances      Box(P          R      mAP50  mAP50-95)     Mask(P          R      mAP50  mAP50-95): 100% 3/3 [00:03<00:00,  1.03s/it]\n",
      "                   all         35         35      0.885      0.879      0.928      0.626      0.856      0.851      0.885      0.525\n",
      "\n",
      "      Epoch    GPU_mem   box_loss   seg_loss   cls_loss   dfl_loss  Instances       Size\n",
      "      24/35         0G     0.8199      1.387      1.065     0.9811         11        640: 100% 9/9 [00:10<00:00,  1.15s/it]\n",
      "                 Class     Images  Instances      Box(P          R      mAP50  mAP50-95)     Mask(P          R      mAP50  mAP50-95): 100% 3/3 [00:02<00:00,  1.14it/s]\n",
      "                   all         35         35      0.657      0.943      0.853      0.546       0.82      0.743      0.818      0.442\n",
      "\n",
      "      Epoch    GPU_mem   box_loss   seg_loss   cls_loss   dfl_loss  Instances       Size\n",
      "      25/35         0G     0.7794      1.335     0.9218     0.9714         12        640: 100% 9/9 [00:10<00:00,  1.11s/it]\n",
      "                 Class     Images  Instances      Box(P          R      mAP50  mAP50-95)     Mask(P          R      mAP50  mAP50-95): 100% 3/3 [00:02<00:00,  1.03it/s]\n",
      "                   all         35         35      0.714      0.771      0.797      0.494      0.692      0.743      0.719      0.389\n",
      "Closing dataloader mosaic\n",
      "\n",
      "      Epoch    GPU_mem   box_loss   seg_loss   cls_loss   dfl_loss  Instances       Size\n",
      "      26/35         0G     0.7064      1.242      1.186     0.8985          6        640: 100% 9/9 [00:09<00:00,  1.10s/it]\n",
      "                 Class     Images  Instances      Box(P          R      mAP50  mAP50-95)     Mask(P          R      mAP50  mAP50-95): 100% 3/3 [00:02<00:00,  1.13it/s]\n",
      "                   all         35         35      0.741      0.743      0.746      0.493      0.741      0.743      0.714      0.393\n",
      "\n",
      "      Epoch    GPU_mem   box_loss   seg_loss   cls_loss   dfl_loss  Instances       Size\n",
      "      27/35         0G     0.6801      1.171      1.083     0.9028          6        640: 100% 9/9 [00:09<00:00,  1.09s/it]\n",
      "                 Class     Images  Instances      Box(P          R      mAP50  mAP50-95)     Mask(P          R      mAP50  mAP50-95): 100% 3/3 [00:02<00:00,  1.02it/s]\n",
      "                   all         35         35      0.841      0.755      0.845      0.587      0.901      0.771      0.834      0.492\n",
      "\n",
      "      Epoch    GPU_mem   box_loss   seg_loss   cls_loss   dfl_loss  Instances       Size\n",
      "      28/35         0G      0.659      1.155      1.153     0.8857          6        640: 100% 9/9 [00:09<00:00,  1.10s/it]\n",
      "                 Class     Images  Instances      Box(P          R      mAP50  mAP50-95)     Mask(P          R      mAP50  mAP50-95): 100% 3/3 [00:02<00:00,  1.08it/s]\n",
      "                   all         35         35       0.87      0.829      0.846        0.6      0.878      0.829       0.84      0.504\n",
      "\n",
      "      Epoch    GPU_mem   box_loss   seg_loss   cls_loss   dfl_loss  Instances       Size\n",
      "      29/35         0G     0.6531      1.169      1.085     0.9056          6        640: 100% 9/9 [00:09<00:00,  1.10s/it]\n",
      "                 Class     Images  Instances      Box(P          R      mAP50  mAP50-95)     Mask(P          R      mAP50  mAP50-95): 100% 3/3 [00:03<00:00,  1.04s/it]\n",
      "                   all         35         35      0.896        0.8      0.839      0.587      0.931      0.829      0.842      0.498\n",
      "\n",
      "      Epoch    GPU_mem   box_loss   seg_loss   cls_loss   dfl_loss  Instances       Size\n",
      "      30/35         0G     0.6275      1.186      1.019     0.8754          6        640: 100% 9/9 [00:10<00:00,  1.18s/it]\n",
      "                 Class     Images  Instances      Box(P          R      mAP50  mAP50-95)     Mask(P          R      mAP50  mAP50-95): 100% 3/3 [00:02<00:00,  1.13it/s]\n",
      "                   all         35         35      0.878      0.825      0.829      0.576      0.906      0.829      0.837      0.502\n",
      "\n",
      "      Epoch    GPU_mem   box_loss   seg_loss   cls_loss   dfl_loss  Instances       Size\n",
      "      31/35         0G      0.605      1.195     0.9615     0.8999          6        640: 100% 9/9 [00:10<00:00,  1.13s/it]\n",
      "                 Class     Images  Instances      Box(P          R      mAP50  mAP50-95)     Mask(P          R      mAP50  mAP50-95): 100% 3/3 [00:02<00:00,  1.18it/s]\n",
      "                   all         35         35      0.879      0.827      0.826      0.582      0.895      0.829      0.833      0.506\n",
      "\n",
      "      Epoch    GPU_mem   box_loss   seg_loss   cls_loss   dfl_loss  Instances       Size\n",
      "      32/35         0G     0.6073      1.145     0.9701     0.8901          6        640: 100% 9/9 [00:09<00:00,  1.11s/it]\n",
      "                 Class     Images  Instances      Box(P          R      mAP50  mAP50-95)     Mask(P          R      mAP50  mAP50-95): 100% 3/3 [00:02<00:00,  1.25it/s]\n",
      "                   all         35         35      0.852      0.822       0.82      0.584      0.889      0.829       0.83        0.5\n",
      "\n",
      "      Epoch    GPU_mem   box_loss   seg_loss   cls_loss   dfl_loss  Instances       Size\n",
      "      33/35         0G     0.5899      1.146     0.9692      0.877          6        640: 100% 9/9 [00:09<00:00,  1.10s/it]\n",
      "                 Class     Images  Instances      Box(P          R      mAP50  mAP50-95)     Mask(P          R      mAP50  mAP50-95): 100% 3/3 [00:02<00:00,  1.04it/s]\n",
      "                   all         35         35      0.818        0.8      0.824       0.58      0.853      0.829      0.829      0.492\n",
      "\n",
      "      Epoch    GPU_mem   box_loss   seg_loss   cls_loss   dfl_loss  Instances       Size\n",
      "      34/35         0G     0.5682      1.141     0.9446     0.8717          6        640: 100% 9/9 [00:10<00:00,  1.12s/it]\n",
      "                 Class     Images  Instances      Box(P          R      mAP50  mAP50-95)     Mask(P          R      mAP50  mAP50-95): 100% 3/3 [00:02<00:00,  1.06it/s]\n",
      "                   all         35         35      0.822        0.8      0.815      0.579      0.852      0.829      0.822      0.482\n",
      "\n",
      "      Epoch    GPU_mem   box_loss   seg_loss   cls_loss   dfl_loss  Instances       Size\n",
      "      35/35         0G     0.5717      1.157     0.9259     0.8233          6        640: 100% 9/9 [00:10<00:00,  1.13s/it]\n",
      "                 Class     Images  Instances      Box(P          R      mAP50  mAP50-95)     Mask(P          R      mAP50  mAP50-95): 100% 3/3 [00:02<00:00,  1.07it/s]\n",
      "                   all         35         35      0.793      0.764      0.801      0.578      0.819      0.778      0.815      0.481\n",
      "\n",
      "35 epochs completed in 0.134 hours.\n",
      "Optimizer stripped from /content/drive/MyDrive/YOLOV8/runs/segment_traiiin/weights/last.pt, 6.8MB\n",
      "Optimizer stripped from /content/drive/MyDrive/YOLOV8/runs/segment_traiiin/weights/best.pt, 6.8MB\n",
      "\n",
      "Validating /content/drive/MyDrive/YOLOV8/runs/segment_traiiin/weights/best.pt...\n",
      "Ultralytics 8.3.19 🚀 Python-3.10.12 torch-2.4.0+cpu CPU (Intel Xeon 2.00GHz)\n",
      "YOLOv8n-seg summary (fused): 195 layers, 3,258,259 parameters, 0 gradients, 12.0 GFLOPs\n",
      "                 Class     Images  Instances      Box(P          R      mAP50  mAP50-95)     Mask(P          R      mAP50  mAP50-95): 100% 3/3 [00:03<00:00,  1.00s/it]\n",
      "                   all         35         35      0.825      0.914       0.94      0.642      0.903      0.886      0.903      0.535\n",
      "Speed: 0.7ms preprocess, 48.2ms inference, 0.0ms loss, 6.3ms postprocess per image\n",
      "Results saved to \u001b[1m/content/drive/MyDrive/YOLOV8/runs/segment_traiiin\u001b[0m\n",
      "💡 Learn more at https://docs.ultralytics.com/modes/train\n"
     ]
    }
   ],
   "source": [
    "from ultralytics import YOLO\n",
    "# Bắt đầu huấn luyện\n",
    "\n",
    "!yolo task=segment mode=train model= /content/drive/MyDrive/YOLOV8/YOLOv8-Image-Segmentation-main/yolov8n-seg.pt data=/content/drive/MyDrive/YOLOV8/YOLOv8-Image-Segmentation-main/custom_data.yaml epochs=35 batch= 8 project='/content/drive/MyDrive/YOLOV8/runs' name='segment_traiiin'\n"
   ]
  },
  {
   "cell_type": "code",
   "execution_count": null,
   "metadata": {
    "colab": {
     "base_uri": "https://localhost:8080/"
    },
    "executionInfo": {
     "elapsed": 4778,
     "status": "ok",
     "timestamp": 1729598628247,
     "user": {
      "displayName": "Trong To",
      "userId": "14431324630869671074"
     },
     "user_tz": -420
    },
    "id": "9hzqxGHYWhAl",
    "outputId": "b1946771-cffc-4fa7-8187-ee00cc64b752"
   },
   "outputs": [
    {
     "name": "stdout",
     "output_type": "stream",
     "text": [
      "Ultralytics 8.3.19 🚀 Python-3.10.12 torch-2.4.0+cpu CPU (Intel Xeon 2.00GHz)\n",
      "YOLOv8n-seg summary (fused): 195 layers, 3,258,259 parameters, 0 gradients, 12.0 GFLOPs\n",
      "\n",
      "image 1/11 /content/drive/MyDrive/YOLOV8/test/test.jpg: 640x640 1 tumor, 99.0ms\n",
      "image 2/11 /content/drive/MyDrive/YOLOV8/test/test1.jpg: 640x640 2 tumors, 61.9ms\n",
      "image 3/11 /content/drive/MyDrive/YOLOV8/test/test10.jpg: 640x640 1 tumor, 64.3ms\n",
      "image 4/11 /content/drive/MyDrive/YOLOV8/test/test2.jpg: 640x640 1 tumor, 59.7ms\n",
      "image 5/11 /content/drive/MyDrive/YOLOV8/test/test3.jpg: 640x640 4 tumors, 64.3ms\n",
      "image 6/11 /content/drive/MyDrive/YOLOV8/test/test4.jpg: 640x640 1 tumor, 58.8ms\n",
      "image 7/11 /content/drive/MyDrive/YOLOV8/test/test5.jpg: 640x640 2 tumors, 62.9ms\n",
      "image 8/11 /content/drive/MyDrive/YOLOV8/test/test6.jpg: 640x640 2 tumors, 57.7ms\n",
      "image 9/11 /content/drive/MyDrive/YOLOV8/test/test7.jpg: 640x640 (no detections), 59.8ms\n",
      "image 10/11 /content/drive/MyDrive/YOLOV8/test/test8.jpg: 640x640 1 tumor, 64.8ms\n",
      "image 11/11 /content/drive/MyDrive/YOLOV8/test/test9.jpg: 640x640 1 tumor, 62.6ms\n",
      "Speed: 2.8ms preprocess, 65.1ms inference, 2.2ms postprocess per image at shape (1, 3, 640, 640)\n",
      "Results saved to \u001b[1m/content/drive/MyDrive/YOLOV8/test_results/yolo_test_resultssss\u001b[0m\n",
      "💡 Learn more at https://docs.ultralytics.com/modes/predict\n"
     ]
    }
   ],
   "source": [
    "# Run inference on an image with YOLOv8n\n",
    "!yolo task=segment mode=predict model=/content/drive/MyDrive/YOLOV8/runs/segment_traiiin/weights/best.pt source='/content/drive/MyDrive/YOLOV8/test' save = True project='/content/drive/MyDrive/YOLOV8/test_results' name='yolo_test_resultssss'"
   ]
  },
  {
   "cell_type": "code",
   "execution_count": 12,
   "metadata": {
    "colab": {
     "base_uri": "https://localhost:8080/"
    },
    "executionInfo": {
     "elapsed": 11844,
     "status": "ok",
     "timestamp": 1729613047970,
     "user": {
      "displayName": "Trong To",
      "userId": "14431324630869671074"
     },
     "user_tz": -420
    },
    "id": "M6HiAsnXOwEt",
    "outputId": "8e851d46-091d-4a9f-dbb1-c2921075513b"
   },
   "outputs": [
    {
     "name": "stdout",
     "output_type": "stream",
     "text": [
      "Ultralytics 8.3.19 🚀 Python-3.10.12 torch-2.4.1+cu121 CPU (Intel Xeon 2.20GHz)\n",
      "YOLOv8n-seg summary (fused): 195 layers, 3,258,259 parameters, 0 gradients, 12.0 GFLOPs\n",
      "\n",
      "image 1/12 /content/drive/MyDrive/YOLOV8/test_1/test10.jpg: 640x640 1 tumor, 373.2ms\n",
      "image 2/12 /content/drive/MyDrive/YOLOV8/test_1/test16.jpg: 640x640 1 tumor, 282.5ms\n",
      "image 3/12 /content/drive/MyDrive/YOLOV8/test_1/test17.jpg: 640x640 1 tumor, 270.2ms\n",
      "image 4/12 /content/drive/MyDrive/YOLOV8/test_1/test18.jpg: 640x640 1 tumor, 272.6ms\n",
      "image 5/12 /content/drive/MyDrive/YOLOV8/test_1/test21.jpg: 640x640 1 tumor, 283.7ms\n",
      "image 6/12 /content/drive/MyDrive/YOLOV8/test_1/test22.jpg: 640x640 1 tumor, 279.6ms\n",
      "image 7/12 /content/drive/MyDrive/YOLOV8/test_1/test23.jpg: 640x640 1 tumor, 265.4ms\n",
      "image 8/12 /content/drive/MyDrive/YOLOV8/test_1/test24.jpg: 640x640 1 tumor, 309.3ms\n",
      "image 9/12 /content/drive/MyDrive/YOLOV8/test_1/test26.jpg: 640x640 1 tumor, 425.0ms\n",
      "image 10/12 /content/drive/MyDrive/YOLOV8/test_1/test34.jpg: 640x640 1 tumor, 289.8ms\n",
      "image 11/12 /content/drive/MyDrive/YOLOV8/test_1/test35.jpg: 640x640 1 tumor, 282.8ms\n",
      "image 12/12 /content/drive/MyDrive/YOLOV8/test_1/test4.jpg: 640x640 1 tumor, 304.9ms\n",
      "Speed: 4.5ms preprocess, 303.2ms inference, 5.6ms postprocess per image at shape (1, 3, 640, 640)\n",
      "Results saved to \u001b[1m/content/drive/MyDrive/YOLOV8/test_results/results_best2\u001b[0m\n",
      "💡 Learn more at https://docs.ultralytics.com/modes/predict\n"
     ]
    }
   ],
   "source": [
    "# Run inference on an image with YOLOv8n\n",
    "!yolo task=segment mode=predict model=/content/drive/MyDrive/YOLOV8/runs/segment_traiiin/weights/best.pt source='/content/drive/MyDrive/YOLOV8/test_1' save = True project='/content/drive/MyDrive/YOLOV8/test_results' name='results_best' conf = 0.8"
   ]
  }
 ],
 "metadata": {
  "accelerator": "TPU",
  "colab": {
   "authorship_tag": "ABX9TyP0gUUOP2SXvIplCIQWPpWZ",
   "gpuType": "V28",
   "provenance": []
  },
  "kernelspec": {
   "display_name": "Python 3",
   "name": "python3"
  },
  "language_info": {
   "name": "python"
  }
 },
 "nbformat": 4,
 "nbformat_minor": 0
}
